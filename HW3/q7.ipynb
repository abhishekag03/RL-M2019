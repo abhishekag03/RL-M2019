{
 "cells": [
  {
   "cell_type": "code",
   "execution_count": 1,
   "metadata": {},
   "outputs": [],
   "source": [
    "import numpy as np\n",
    "import matplotlib.pyplot as plt\n",
    "from tqdm import tqdm_notebook as tqdm"
   ]
  },
  {
   "cell_type": "code",
   "execution_count": 38,
   "metadata": {},
   "outputs": [],
   "source": [
    "alpha = np.random.random()\n",
    "num_runs = 500\n",
    "num_episodes = 500\n",
    "epsilon = 0.1\n",
    "num_rows = 4\n",
    "num_cols = 12\n",
    "num_states = num_rows * num_cols\n",
    "actions = {0: 'up', 1: 'right', 2: 'down', 3: 'left'}\n",
    "num_actions = len(actions)\n",
    "# start_state = num_cols * (num_rows - 1)\n",
    "# terminal_state = num_states - 1\n",
    "terminal_state_2d = (num_rows-1, num_cols-1)\n",
    "start_state_2d = (num_rows - 1, 0)\n",
    "discount = 1"
   ]
  },
  {
   "cell_type": "code",
   "execution_count": 39,
   "metadata": {},
   "outputs": [],
   "source": [
    "#Randomly initialising Q\n",
    "def initializeQ():\n",
    "    Q = [[0 for i in range(num_actions)] for j in range(num_states)]\n",
    "    # print(len(Q), len(Q[0]))\n",
    "    for i in range(num_states):\n",
    "        if (i == num_rows - 1):\n",
    "            continue\n",
    "        for j in range(num_actions):\n",
    "            Q[i][j] = np.random.random()\n",
    "    return Q\n",
    "# Q[45].index(max(Q[45]))"
   ]
  },
  {
   "cell_type": "code",
   "execution_count": 40,
   "metadata": {},
   "outputs": [],
   "source": [
    "def get_action(state, Q):\n",
    "    state = state[0]*num_cols + state[1]\n",
    "    prob = np.random.random()\n",
    "    if (prob <= epsilon):\n",
    "        action = np.random.randint(0, num_actions)\n",
    "    else:\n",
    "        action = Q[state].index(max(Q[state]))\n",
    "    return action\n",
    "\n",
    "def check_cell(s):\n",
    "    if (s[0] < 0 or s[0] > num_rows - 1 or s[1] < 0 or s[1] > num_cols - 1):\n",
    "        return False\n",
    "    return True\n",
    "\n",
    "def on_cliff(s):\n",
    "    if (s[0] == num_rows - 1 and 0 < s[1] < num_cols - 1):\n",
    "        return True\n",
    "    return False"
   ]
  },
  {
   "cell_type": "code",
   "execution_count": 41,
   "metadata": {},
   "outputs": [],
   "source": [
    "def take_step(s, action):\n",
    "    if (action == 0):\n",
    "        s_dash = (s[0] - 1, s[1])\n",
    "    elif (action == 1):\n",
    "        s_dash = (s[0], s[1] + 1)\n",
    "    elif (action == 2):\n",
    "        s_dash = (s[0] + 1, s[1])\n",
    "    else:\n",
    "        s_dash = (s[0], s[1] - 1)\n",
    "        \n",
    "    if (not check_cell(s_dash)):\n",
    "        return s, -1\n",
    "    \n",
    "#     if (s_dash == terminal_state_2d):\n",
    "#         return s_dash, 50\n",
    "    \n",
    "    if (on_cliff(s_dash)):\n",
    "        return start_state_2d, -100\n",
    "    return s_dash, -1"
   ]
  },
  {
   "cell_type": "code",
   "execution_count": 47,
   "metadata": {},
   "outputs": [],
   "source": [
    "def sarsa(num_episodes):\n",
    "    rewards = [0]*num_episodes\n",
    "    for episode in range(num_episodes):\n",
    "        s = start_state_2d\n",
    "        action = get_action(s, Q)\n",
    "        while True:\n",
    "#             print(\"ss\", s)\n",
    "#             print(s_1d)\n",
    "            s_dash, reward = take_step(s, action)\n",
    "            action_dash = get_action(s_dash, Q)\n",
    "            s_1d = s[0]*num_cols + s[1]\n",
    "            s_dash_1d = s_dash[0]*num_cols + s_dash[1]\n",
    "            Q[s_1d][action] += alpha*(reward + discount*Q[s_dash_1d][action_dash] - Q[s_1d][action])\n",
    "            s = s_dash; action = action_dash;\n",
    "            rewards[episode] += reward\n",
    "            if (s == terminal_state_2d):\n",
    "                break    \n",
    "        rewards[episode] = max(rewards[episode], -100)\n",
    "\n",
    "    return rewards"
   ]
  },
  {
   "cell_type": "code",
   "execution_count": 43,
   "metadata": {},
   "outputs": [],
   "source": [
    "def qlearning(num_episodes):\n",
    "    rewards = [0]*num_episodes\n",
    "    for episode in range(num_episodes):\n",
    "        s = start_state_2d\n",
    "        while True:\n",
    "            action = get_action(s, Q)\n",
    "            s_1d = s[0]*num_cols + s[1]            \n",
    "            s_dash, reward = take_step(s, action)\n",
    "            s_dash_1d = s_dash[0]*num_cols + s_dash[1]\n",
    "            action_dash = get_action(s_dash, Q)\n",
    "                Q[s_1d][action] += alpha*(reward + discount*max(Q[s_dash_1d]) - Q[s_1d][action])\n",
    "            s = s_dash;\n",
    "            rewards[episode] += reward\n",
    "            if (s == terminal_state_2d):\n",
    "                break    \n",
    "        rewards[episode] = max(rewards[episode], -100)\n",
    "        \n",
    "    return rewards"
   ]
  },
  {
   "cell_type": "code",
   "execution_count": 48,
   "metadata": {},
   "outputs": [
    {
     "data": {
      "application/vnd.jupyter.widget-view+json": {
       "model_id": "f4daa2ceeb504daa92fcd64fd28e0f01",
       "version_major": 2,
       "version_minor": 0
      },
      "text/plain": [
       "HBox(children=(IntProgress(value=0, max=500), HTML(value='')))"
      ]
     },
     "metadata": {},
     "output_type": "display_data"
    },
    {
     "name": "stdout",
     "output_type": "stream",
     "text": [
      "\n"
     ]
    }
   ],
   "source": [
    "rewards_sarsa = np.zeros(num_episodes)\n",
    "for i in tqdm(range(num_runs)):\n",
    "    Q = initializeQ()\n",
    "    rewards_sarsa += np.array(sarsa(num_episodes))\n",
    "rewards_sarsa/=num_runs"
   ]
  },
  {
   "cell_type": "code",
   "execution_count": 45,
   "metadata": {},
   "outputs": [
    {
     "data": {
      "application/vnd.jupyter.widget-view+json": {
       "model_id": "361c04c0f9dc4b4f8aafe8943895f268",
       "version_major": 2,
       "version_minor": 0
      },
      "text/plain": [
       "HBox(children=(IntProgress(value=0, max=500), HTML(value='')))"
      ]
     },
     "metadata": {},
     "output_type": "display_data"
    },
    {
     "name": "stdout",
     "output_type": "stream",
     "text": [
      "\n"
     ]
    }
   ],
   "source": [
    "rewards_ql = np.zeros(num_episodes)\n",
    "for i in tqdm(range(num_runs)):\n",
    "    Q = initializeQ()\n",
    "    rewards_ql += np.array(qlearning(num_episodes))\n",
    "rewards_ql/=num_runs"
   ]
  },
  {
   "cell_type": "code",
   "execution_count": 51,
   "metadata": {},
   "outputs": [
    {
     "data": {
      "image/png": "[encoded data removed]",
      "text/plain": [
       "<Figure size 432x288 with 1 Axes>"
      ]
     },
     "metadata": {
      "needs_background": "light"
     },
     "output_type": "display_data"
    }
   ],
   "source": [
    "plt.plot(rewards_sarsa, label = \"SARSA\")\n",
    "plt.plot(rewards_ql, label = \"Q-Learning\")\n",
    "plt.legend()\n",
    "plt.show()"
   ]
  },
  {
   "cell_type": "code",
   "execution_count": null,
   "metadata": {},
   "outputs": [],
   "source": []
  }
 ],
 "metadata": {
  "kernelspec": {
   "display_name": "Python 3",
   "language": "python",
   "name": "python3"
  },
  "language_info": {
   "codemirror_mode": {
    "name": "ipython",
    "version": 3
   },
   "file_extension": ".py",
   "mimetype": "text/x-python",
   "name": "python",
   "nbconvert_exporter": "python",
   "pygments_lexer": "ipython3",
   "version": "3.6.1"
  }
 },
 "nbformat": 4,
 "nbformat_minor": 2
}
