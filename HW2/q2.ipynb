{
 "cells": [
  {
   "cell_type": "code",
   "execution_count": 1,
   "metadata": {},
   "outputs": [],
   "source": [
    "import numpy\n",
    "import numpy as np\n",
    "from scipy.optimize import linprog"
   ]
  },
  {
   "cell_type": "code",
   "execution_count": 2,
   "metadata": {},
   "outputs": [],
   "source": [
    "def get_cell_type(row, col):\n",
    "    if ((row == 0 or row == 4) and (col == 0 or col == 4)):\n",
    "        return 0, 0.5; #corner\n",
    "    elif(row == 0 or col == 0 or row == 4 or col == 4):\n",
    "        return 1, 0.25; #edge\n",
    "    else:\n",
    "        return 2, 0; #middle\n",
    "    \n",
    "def get_neighbors(row, col):\n",
    "    arr = []\n",
    "    if (row+1<5):\n",
    "        arr.append((row+1, col))\n",
    "    if (col+1<5):\n",
    "        arr.append((row, col+1))\n",
    "    if (col-1>=0):\n",
    "        arr.append((row, col-1))\n",
    "    if (row-1>=0):\n",
    "        arr.append((row-1, col))\n",
    "    return arr\n",
    "\n",
    "def get_state(row, col, action): #returning reward obtained as the 3rd argument\n",
    "    if (row == 0 and col == 1):\n",
    "        return (4, 1, 10)\n",
    "    elif (row == 0 and col == 3):\n",
    "        return (2, 3, 5)\n",
    "    if (action == 0): #up\n",
    "        if (row - 1 >= 0):\n",
    "            return (row - 1, col, 0)\n",
    "        \n",
    "    if (action == 1): #right\n",
    "        if (col + 1 < 5):\n",
    "            return (row, col+1, 0)\n",
    "        \n",
    "    if (action == 2): #down\n",
    "        if (row + 1 < 5):\n",
    "            return (row + 1, col, 0)\n",
    "\n",
    "    if (action == 3): #left\n",
    "        if (col - 1 >= 0):\n",
    "            return (row, col-1, 0)\n",
    "    \n",
    "    return (row, col, -1)\n",
    "        "
   ]
  },
  {
   "cell_type": "code",
   "execution_count": 3,
   "metadata": {},
   "outputs": [],
   "source": [
    "optimal_coeffs = numpy.zeros((100, 25))"
   ]
  },
  {
   "cell_type": "code",
   "execution_count": 4,
   "metadata": {
    "scrolled": true
   },
   "outputs": [],
   "source": [
    "row_num = 0;\n",
    "gamma = 0.9;\n",
    "b = [0]*100\n",
    "for row in range(5):\n",
    "    for col in range(5):\n",
    "        for action in range(4):\n",
    "            state_row, state_col, reward = get_state(row, col, action)\n",
    "            arr_ind = 5*row + col\n",
    "            state_ind = 5*state_row + state_col\n",
    "            b[row_num] -= reward\n",
    "            optimal_coeffs[row_num][arr_ind] -= 1\n",
    "            optimal_coeffs[row_num][state_ind] += gamma\n",
    "            row_num += 1"
   ]
  },
  {
   "cell_type": "code",
   "execution_count": 5,
   "metadata": {},
   "outputs": [],
   "source": [
    "vstar = (linprog([1]*25, optimal_coeffs, b)).x"
   ]
  },
  {
   "cell_type": "code",
   "execution_count": 6,
   "metadata": {},
   "outputs": [
    {
     "name": "stdout",
     "output_type": "stream",
     "text": [
      "[[22.  24.4 22.  19.4 17.5]\n",
      " [19.8 22.  19.8 17.8 16. ]\n",
      " [17.8 19.8 17.8 16.  14.4]\n",
      " [16.  17.8 16.  14.4 13. ]\n",
      " [14.4 16.  14.4 13.  11.7]]\n"
     ]
    }
   ],
   "source": [
    "vstar = numpy.round(vstar, 1)\n",
    "print(numpy.reshape(vstar, (5, 5)))"
   ]
  },
  {
   "cell_type": "code",
   "execution_count": 7,
   "metadata": {},
   "outputs": [],
   "source": [
    "action_dict = {0:'U', 1:'R', 2:'D', 3:'L'}\n",
    "optimal_actions = [[\"\" for i in range (5)] for j in range(5)]\n",
    "for row in range(5):\n",
    "    for col in range(5):\n",
    "        values = []\n",
    "        for action in range(4):\n",
    "            state_row, state_col, reward = get_state(row, col, action)\n",
    "            values.append(vstar[state_row*5 + state_col])\n",
    "        maxval = max(values)\n",
    "        for action_num, val in enumerate(values):\n",
    "            if (val == maxval):\n",
    "                optimal_actions[row][col] = optimal_actions[row][col]+action_dict[action_num]"
   ]
  },
  {
   "cell_type": "code",
   "execution_count": 8,
   "metadata": {},
   "outputs": [],
   "source": [
    "def get_action_matrix(po):\n",
    "    action_dict = {0:'U', 1:'R', 2:'D', 3:'L'}\n",
    "    action_matrix = [\"\" for i in range(len(po))]\n",
    "    optimal_actions = [[\"\" for i in range (5)] for j in range(5)]\n",
    "    for i in range(1, len(po)-1):\n",
    "        values = po[i]\n",
    "        maxval = max(values)\n",
    "        for j, val in enumerate(values):\n",
    "            if (val == maxval):\n",
    "                action_matrix[i] = action_matrix[i] + action_dict[j]\n",
    "    mat = numpy.reshape(action_matrix, (4, 4))\n",
    "    return mat"
   ]
  },
  {
   "cell_type": "code",
   "execution_count": 9,
   "metadata": {},
   "outputs": [
    {
     "data": {
      "text/plain": [
       "[['R', 'URDL', 'L', 'URDL', 'L'],\n",
       " ['UR', 'U', 'UL', 'L', 'L'],\n",
       " ['UR', 'U', 'UL', 'UL', 'UL'],\n",
       " ['UR', 'U', 'UL', 'UL', 'UL'],\n",
       " ['UR', 'U', 'UL', 'UL', 'UL']]"
      ]
     },
     "execution_count": 9,
     "metadata": {},
     "output_type": "execute_result"
    }
   ],
   "source": [
    "optimal_actions"
   ]
  }
 ],
 "metadata": {
  "kernelspec": {
   "display_name": "Python 3",
   "language": "python",
   "name": "python3"
  },
  "language_info": {
   "codemirror_mode": {
    "name": "ipython",
    "version": 3
   },
   "file_extension": ".py",
   "mimetype": "text/x-python",
   "name": "python",
   "nbconvert_exporter": "python",
   "pygments_lexer": "ipython3",
   "version": "3.6.1"
  }
 },
 "nbformat": 4,
 "nbformat_minor": 2
}
