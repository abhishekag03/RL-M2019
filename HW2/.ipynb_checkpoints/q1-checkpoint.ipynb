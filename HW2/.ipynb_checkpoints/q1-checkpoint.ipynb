{
 "cells": [
  {
   "cell_type": "code",
   "execution_count": 1,
   "metadata": {},
   "outputs": [],
   "source": [
    "import numpy\n",
    "import numpy as np\n",
    "from scipy.optimize import linprog"
   ]
  },
  {
   "cell_type": "code",
   "execution_count": 2,
   "metadata": {},
   "outputs": [],
   "source": [
    "def get_cell_type(row, col):\n",
    "    #function to determine the type of cell\n",
    "    if ((row == 0 or row == 4) and (col == 0 or col == 4)):\n",
    "        return 0, 0.5; #corner\n",
    "    elif(row == 0 or col == 0 or row == 4 or col == 4):\n",
    "        return 1, 0.25; #edge\n",
    "    else:\n",
    "        return 2, 0; #middle\n",
    "    \n",
    "def get_neighbors(row, col):\n",
    "    #function to determine the valid neighbours of a given state/cell\n",
    "    arr = []\n",
    "    if (row+1<5):\n",
    "        arr.append((row+1, col))\n",
    "    if (col+1<5):\n",
    "        arr.append((row, col+1))\n",
    "    if (col-1>=0):\n",
    "        arr.append((row, col-1))\n",
    "    if (row-1>=0):\n",
    "        arr.append((row-1, col))\n",
    "    return arr\n",
    "\n",
    "def get_state(row, col, action): \n",
    "    #returns the next state the action would lead to from a given state\n",
    "    #returns reward obtained as the 3rd argument\n",
    "    if (row == 0 and col == 1):\n",
    "        return (4, 1, 10)\n",
    "    elif (row == 0 and col == 3):\n",
    "        return (2, 3, 5)\n",
    "    if (action == 0): #up\n",
    "        if (row - 1 >= 0):\n",
    "            return (row - 1, col, 0)\n",
    "        \n",
    "    if (action == 1): #right\n",
    "        if (col + 1 < 5):\n",
    "            return (row, col+1, 0)\n",
    "        \n",
    "    if (action == 2): #down\n",
    "        if (row + 1 < 5):\n",
    "            return (row + 1, col, 0)\n",
    "\n",
    "    if (action == 3): #left\n",
    "        if (col - 1 >= 0):\n",
    "            return (row, col-1, 0)\n",
    "    \n",
    "    return (row, col, -1)\n",
    "        "
   ]
  },
  {
   "cell_type": "code",
   "execution_count": 3,
   "metadata": {},
   "outputs": [],
   "source": [
    "A = [[0 for i in range(25)] for j in range(25)]\n",
    "b = [0 for i in range(25)]"
   ]
  },
  {
   "cell_type": "code",
   "execution_count": 4,
   "metadata": {},
   "outputs": [
    {
     "name": "stdout",
     "output_type": "stream",
     "text": [
      "[(4, 1), (3, 0)]\n"
     ]
    }
   ],
   "source": [
    "a = get_neighbors(4,0)\n",
    "print(a)"
   ]
  },
  {
   "cell_type": "code",
   "execution_count": 5,
   "metadata": {},
   "outputs": [],
   "source": [
    "row_num = 0;\n",
    "for row in range(5):\n",
    "    for col in range(5):\n",
    "        cell_type, bval = get_cell_type(row, col)\n",
    "        arr_ind = 5*row + col\n",
    "        b[arr_ind] = bval\n",
    "        neighbors = get_neighbors(row, col)\n",
    "        if (row == 0 and col == 1):\n",
    "            b[arr_ind] = -10\n",
    "            A[row_num][arr_ind] = -1\n",
    "            A[row_num][21] = 0.9\n",
    "        elif (row == 0 and col == 3):\n",
    "            b[arr_ind] = -5\n",
    "            A[row_num][arr_ind] = -1\n",
    "            A[row_num][13] = 0.9\n",
    "        elif (cell_type == 0):\n",
    "            A[row_num][arr_ind] = -0.55\n",
    "            for neighbor in neighbors:\n",
    "                index = 5*neighbor[0] + neighbor[1]\n",
    "                A[row_num][index] = 0.25*0.9\n",
    "        elif (cell_type == 1):\n",
    "            A[row_num][arr_ind] = 0.25*0.9 - 1\n",
    "            for neighbor in neighbors:\n",
    "                index = 5*neighbor[0] + neighbor[1]\n",
    "                A[row_num][index] = 0.25*0.9\n",
    "        else:\n",
    "            A[row_num][arr_ind] = -1\n",
    "            for neighbor in neighbors:\n",
    "                index = 5*neighbor[0] + neighbor[1]\n",
    "                A[row_num][index] = 0.25*0.9\n",
    "        row_num += 1"
   ]
  },
  {
   "cell_type": "code",
   "execution_count": 6,
   "metadata": {},
   "outputs": [],
   "source": [
    "Ainv = numpy.linalg.inv(A)"
   ]
  },
  {
   "cell_type": "code",
   "execution_count": 7,
   "metadata": {},
   "outputs": [],
   "source": [
    "b = numpy.array(b)"
   ]
  },
  {
   "cell_type": "code",
   "execution_count": 8,
   "metadata": {},
   "outputs": [
    {
     "name": "stdout",
     "output_type": "stream",
     "text": [
      "[[ 3.3  8.8  4.4  5.3  1.5]\n",
      " [ 1.5  3.   2.3  1.9  0.5]\n",
      " [ 0.1  0.7  0.7  0.4 -0.4]\n",
      " [-1.  -0.4 -0.4 -0.6 -1.2]\n",
      " [-1.9 -1.3 -1.2 -1.4 -2. ]]\n"
     ]
    }
   ],
   "source": [
    "ans = numpy.matmul(Ainv, b)\n",
    "print(numpy.reshape(numpy.round(ans, 1), (5, 5)))"
   ]
  }
 ],
 "metadata": {
  "kernelspec": {
   "display_name": "Python 3",
   "language": "python",
   "name": "python3"
  },
  "language_info": {
   "codemirror_mode": {
    "name": "ipython",
    "version": 3
   },
   "file_extension": ".py",
   "mimetype": "text/x-python",
   "name": "python",
   "nbconvert_exporter": "python",
   "pygments_lexer": "ipython3",
   "version": "3.6.1"
  }
 },
 "nbformat": 4,
 "nbformat_minor": 2
}
