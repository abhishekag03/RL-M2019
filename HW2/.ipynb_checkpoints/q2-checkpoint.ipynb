{
 "cells": [
  {
   "cell_type": "code",
   "execution_count": 19,
   "metadata": {},
   "outputs": [],
   "source": [
    "import numpy\n",
    "import numpy as np\n",
    "from scipy.optimize import linprog"
   ]
  },
  {
   "cell_type": "code",
   "execution_count": 20,
   "metadata": {},
   "outputs": [],
   "source": [
    "def get_cell_type(row, col):\n",
    "    if ((row == 0 or row == 4) and (col == 0 or col == 4)):\n",
    "        return 0, 0.5; #corner\n",
    "    elif(row == 0 or col == 0 or row == 4 or col == 4):\n",
    "        return 1, 0.25; #edge\n",
    "    else:\n",
    "        return 2, 0; #middle\n",
    "    \n",
    "def get_neighbors(row, col):\n",
    "    arr = []\n",
    "    if (row+1<5):\n",
    "        arr.append((row+1, col))\n",
    "    if (col+1<5):\n",
    "        arr.append((row, col+1))\n",
    "    if (col-1>=0):\n",
    "        arr.append((row, col-1))\n",
    "    if (row-1>=0):\n",
    "        arr.append((row-1, col))\n",
    "    return arr\n",
    "\n",
    "def get_state(row, col, action): #returning reward obtained as the 3rd argument\n",
    "    if (row == 0 and col == 1):\n",
    "        return (4, 1, 10)\n",
    "    elif (row == 0 and col == 3):\n",
    "        return (2, 3, 5)\n",
    "    if (action == 0): #up\n",
    "        if (row - 1 >= 0):\n",
    "            return (row - 1, col, 0)\n",
    "        \n",
    "    if (action == 1): #right\n",
    "        if (col + 1 < 5):\n",
    "            return (row, col+1, 0)\n",
    "        \n",
    "    if (action == 2): #down\n",
    "        if (row + 1 < 5):\n",
    "            return (row + 1, col, 0)\n",
    "\n",
    "    if (action == 3): #left\n",
    "        if (col - 1 >= 0):\n",
    "            return (row, col-1, 0)\n",
    "    \n",
    "    return (row, col, -1)\n",
    "        "
   ]
  },
  {
   "cell_type": "code",
   "execution_count": 21,
   "metadata": {},
   "outputs": [],
   "source": [
    "A = [[0 for i in range(25)] for j in range(25)]\n",
    "b = [0 for i in range(25)]"
   ]
  },
  {
   "cell_type": "code",
   "execution_count": 22,
   "metadata": {},
   "outputs": [
    {
     "name": "stdout",
     "output_type": "stream",
     "text": [
      "[(4, 1), (3, 0)]\n"
     ]
    }
   ],
   "source": [
    "a = get_neighbors(4,0)\n",
    "print(a)"
   ]
  },
  {
   "cell_type": "code",
   "execution_count": 23,
   "metadata": {},
   "outputs": [],
   "source": [
    "row_num = 0;\n",
    "for row in range(5):\n",
    "    for col in range(5):\n",
    "        cell_type, bval = get_cell_type(row, col)\n",
    "        arr_ind = 5*row + col\n",
    "        b[arr_ind] = bval\n",
    "        neighbors = get_neighbors(row, col)\n",
    "        if (row == 0 and col == 1):\n",
    "            b[arr_ind] = -10\n",
    "            A[row_num][arr_ind] = -1\n",
    "            A[row_num][21] = 0.9\n",
    "        elif (row == 0 and col == 3):\n",
    "            b[arr_ind] = -5\n",
    "            A[row_num][arr_ind] = -1\n",
    "            A[row_num][13] = 0.9\n",
    "        elif (cell_type == 0):\n",
    "            A[row_num][arr_ind] = -0.55\n",
    "            for neighbor in neighbors:\n",
    "                index = 5*neighbor[0] + neighbor[1]\n",
    "                A[row_num][index] = 0.25*0.9\n",
    "        elif (cell_type == 1):\n",
    "            A[row_num][arr_ind] = 0.25*0.9 - 1\n",
    "            for neighbor in neighbors:\n",
    "                index = 5*neighbor[0] + neighbor[1]\n",
    "                A[row_num][index] = 0.25*0.9\n",
    "        else:\n",
    "            A[row_num][arr_ind] = -1\n",
    "            for neighbor in neighbors:\n",
    "                index = 5*neighbor[0] + neighbor[1]\n",
    "                A[row_num][index] = 0.25*0.9\n",
    "        row_num += 1"
   ]
  },
  {
   "cell_type": "code",
   "execution_count": 24,
   "metadata": {},
   "outputs": [],
   "source": [
    "Ainv = numpy.linalg.inv(A)"
   ]
  },
  {
   "cell_type": "code",
   "execution_count": 25,
   "metadata": {},
   "outputs": [],
   "source": [
    "b = numpy.array(b)"
   ]
  },
  {
   "cell_type": "code",
   "execution_count": 31,
   "metadata": {},
   "outputs": [
    {
     "name": "stdout",
     "output_type": "stream",
     "text": [
      "[[ 3.3  8.8  4.4  5.3  1.5]\n",
      " [ 1.5  3.   2.3  1.9  0.5]\n",
      " [ 0.1  0.7  0.7  0.4 -0.4]\n",
      " [-1.  -0.4 -0.4 -0.6 -1.2]\n",
      " [-1.9 -1.3 -1.2 -1.4 -2. ]]\n"
     ]
    }
   ],
   "source": [
    "ans = numpy.matmul(Ainv, b)\n",
    "print(numpy.reshape(numpy.round(ans, 1), (5, 5)))"
   ]
  },
  {
   "cell_type": "code",
   "execution_count": 32,
   "metadata": {},
   "outputs": [],
   "source": [
    "# optimal_coeffs = ([[0 for i in range(25)] for j in range(4*25)])\n",
    "optimal_coeffs = numpy.zeros((100, 25))"
   ]
  },
  {
   "cell_type": "code",
   "execution_count": 33,
   "metadata": {
    "scrolled": true
   },
   "outputs": [],
   "source": [
    "row_num = 0;\n",
    "gamma = 0.9;\n",
    "b = [0]*100\n",
    "for row in range(5):\n",
    "    for col in range(5):\n",
    "        for action in range(4):\n",
    "            state_row, state_col, reward = get_state(row, col, action)\n",
    "            arr_ind = 5*row + col\n",
    "            state_ind = 5*state_row + state_col\n",
    "            b[row_num] -= reward\n",
    "            optimal_coeffs[row_num][arr_ind] -= 1\n",
    "            optimal_coeffs[row_num][state_ind] += gamma\n",
    "            row_num += 1"
   ]
  },
  {
   "cell_type": "code",
   "execution_count": 34,
   "metadata": {},
   "outputs": [],
   "source": [
    "vstar = (linprog([1]*25, optimal_coeffs, b)).x"
   ]
  },
  {
   "cell_type": "code",
   "execution_count": 36,
   "metadata": {},
   "outputs": [
    {
     "name": "stdout",
     "output_type": "stream",
     "text": [
      "[[22.  24.4 22.  19.4 17.5]\n",
      " [19.8 22.  19.8 17.8 16. ]\n",
      " [17.8 19.8 17.8 16.  14.4]\n",
      " [16.  17.8 16.  14.4 13. ]\n",
      " [14.4 16.  14.4 13.  11.7]]\n"
     ]
    }
   ],
   "source": [
    "vstar = numpy.round(vstar, 1)\n",
    "print(numpy.reshape(vstar, (5, 5)))"
   ]
  },
  {
   "cell_type": "code",
   "execution_count": 37,
   "metadata": {},
   "outputs": [],
   "source": [
    "action_dict = {0:'U', 1:'R', 2:'D', 3:'L'}\n",
    "optimal_actions = [[\"\" for i in range (5)] for j in range(5)]\n",
    "for row in range(5):\n",
    "    for col in range(5):\n",
    "        values = []\n",
    "        for action in range(4):\n",
    "            state_row, state_col, reward = get_state(row, col, action)\n",
    "            values.append(vstar[state_row*5 + state_col])\n",
    "        maxval = max(values)\n",
    "        for action_num, val in enumerate(values):\n",
    "            if (val == maxval):\n",
    "                optimal_actions[row][col] = optimal_actions[row][col]+action_dict[action_num]"
   ]
  },
  {
   "cell_type": "code",
   "execution_count": 56,
   "metadata": {},
   "outputs": [],
   "source": [
    "def get_action_matrix(po):\n",
    "    action_dict = {0:'U', 1:'R', 2:'D', 3:'L'}\n",
    "    action_matrix = [\"\" for i in range(len(po))]\n",
    "    optimal_actions = [[\"\" for i in range (5)] for j in range(5)]\n",
    "    for i in range(1, len(po)-1):\n",
    "        values = po[i]\n",
    "        maxval = max(values)\n",
    "        for j, val in enumerate(values):\n",
    "            if (val == maxval):\n",
    "                action_matrix[i] = action_matrix[i] + action_dict[j]\n",
    "    mat = numpy.reshape(action_matrix, (4, 4))\n",
    "    return mat"
   ]
  },
  {
   "cell_type": "code",
   "execution_count": 57,
   "metadata": {},
   "outputs": [
    {
     "data": {
      "text/plain": [
       "[['R', 'URDL', 'L', 'URDL', 'L'],\n",
       " ['UR', 'U', 'UL', 'L', 'L'],\n",
       " ['UR', 'U', 'UL', 'UL', 'UL'],\n",
       " ['UR', 'U', 'UL', 'UL', 'UL'],\n",
       " ['UR', 'U', 'UL', 'UL', 'UL']]"
      ]
     },
     "execution_count": 57,
     "metadata": {},
     "output_type": "execute_result"
    }
   ],
   "source": [
    "optimal_actions"
   ]
  },
  {
   "cell_type": "markdown",
   "metadata": {},
   "source": [
    "# Policy Iteration"
   ]
  },
  {
   "cell_type": "code",
   "execution_count": 58,
   "metadata": {},
   "outputs": [],
   "source": [
    "def get_next_state(state_num, action): #returning reward obtained as the 3rd argument\n",
    "    row = state_num//4\n",
    "    col = state_num%4\n",
    "    if (row == 0 and col == 0):\n",
    "        return (0, 0)\n",
    "    elif (row == 3 and col == 3):\n",
    "        return (3, 3)\n",
    "    if (action == 0): #up\n",
    "        if (row - 1 >= 0):\n",
    "            return (row - 1, col)\n",
    "        \n",
    "    if (action == 1): #right\n",
    "        if (col + 1 < 4):\n",
    "            return (row, col+1)\n",
    "        \n",
    "    if (action == 2): #down\n",
    "        if (row + 1 < 4):\n",
    "            return (row + 1, col)\n",
    "\n",
    "    if (action == 3): #left\n",
    "        if (col - 1 >= 0):\n",
    "            return (row, col-1)    \n",
    "    return (row, col)\n"
   ]
  },
  {
   "cell_type": "code",
   "execution_count": 59,
   "metadata": {},
   "outputs": [
    {
     "name": "stdout",
     "output_type": "stream",
     "text": [
      "[[ 0. -1. -2. -3.]\n",
      " [-1. -2. -3. -2.]\n",
      " [-2. -3. -2. -1.]\n",
      " [-3. -2. -1.  0.]]\n",
      "\n",
      "[[0.25 0.25 0.25 0.25]\n",
      " [0.   0.   0.   1.  ]\n",
      " [0.   0.   0.   1.  ]\n",
      " [0.   0.   0.5  0.5 ]\n",
      " [1.   0.   0.   0.  ]\n",
      " [0.5  0.   0.   0.5 ]\n",
      " [0.25 0.25 0.25 0.25]\n",
      " [0.   0.   1.   0.  ]\n",
      " [1.   0.   0.   0.  ]\n",
      " [0.25 0.25 0.25 0.25]\n",
      " [0.   0.5  0.5  0.  ]\n",
      " [0.   0.   1.   0.  ]\n",
      " [0.5  0.5  0.   0.  ]\n",
      " [0.   1.   0.   0.  ]\n",
      " [0.   1.   0.   0.  ]\n",
      " [0.25 0.25 0.25 0.25]]\n"
     ]
    }
   ],
   "source": [
    "v = [0]*16\n",
    "num_states = 16\n",
    "policy = [[0.25 for i in range(4)] for j in range(16)]\n",
    "flag = True\n",
    "terminal = [0, 15]\n",
    "reward = -1\n",
    "while (flag):\n",
    "    flag2 = True\n",
    "    while (flag2):\n",
    "        delta = 0\n",
    "        for state in range(num_states):\n",
    "            val = v[state] \n",
    "            if (state in terminal):\n",
    "                continue\n",
    "            nval = 0\n",
    "            for action in range(4):\n",
    "                next_state = get_next_state(state, action)\n",
    "                state_num = 4*next_state[0] + next_state[1]\n",
    "                nval += policy[state][action]*(reward + v[state_num])\n",
    "            v[state] = nval\n",
    "            delta = max(delta, abs(val-v[state]))\n",
    "#             print(delta)\n",
    "        if delta < 0.00001:\n",
    "            break\n",
    "#     flag3 = True\n",
    "  \n",
    "    policy_stable = True\n",
    "    for state in range(num_states):\n",
    "        if (state in terminal):\n",
    "            continue\n",
    "        old_action = []\n",
    "        for act in policy[state]:\n",
    "            old_action.append(act)\n",
    "#         old_action = policy[state]\n",
    "        li = []\n",
    "        for action in range(4):\n",
    "            next_state = get_next_state(state, action)\n",
    "            next_state = 4*next_state[0] + next_state[1]\n",
    "            li.append(reward + v[next_state])\n",
    "        li = numpy.round(numpy.array(li), 2)\n",
    "        maxval = max(li)\n",
    "        count=0;indices=[]\n",
    "\n",
    "\n",
    "        for action in range(4):\n",
    "            if (li[action] == maxval):\n",
    "                indices.append(action)\n",
    "                count+=1;\n",
    "        for index in range(4):\n",
    "            if index in indices:\n",
    "                policy[state][index] = 1/count;\n",
    "            else:\n",
    "                policy[state][index] = 0\n",
    "        for ind in range(len(old_action)):\n",
    "            if (old_action[ind] != policy[state][ind]):\n",
    "                policy_stable = False\n",
    "    if (policy_stable):\n",
    "        break\n",
    "po = numpy.reshape(policy, (16, 4))\n",
    "v = numpy.reshape(v, (4, 4))\n",
    "print(v)\n",
    "print()\n",
    "print(po)"
   ]
  },
  {
   "cell_type": "markdown",
   "metadata": {},
   "source": [
    "# Value Iteration"
   ]
  },
  {
   "cell_type": "code",
   "execution_count": 60,
   "metadata": {},
   "outputs": [
    {
     "name": "stdout",
     "output_type": "stream",
     "text": [
      "[[ 0 -1 -2 -3]\n",
      " [-1 -2 -3 -2]\n",
      " [-2 -3 -2 -1]\n",
      " [-3 -2 -1  0]]\n",
      "\n",
      "[[0.25 0.25 0.25 0.25]\n",
      " [0.   0.   0.   1.  ]\n",
      " [0.   0.   0.   1.  ]\n",
      " [0.   0.   0.5  0.5 ]\n",
      " [1.   0.   0.   0.  ]\n",
      " [0.5  0.   0.   0.5 ]\n",
      " [0.25 0.25 0.25 0.25]\n",
      " [0.   0.   1.   0.  ]\n",
      " [1.   0.   0.   0.  ]\n",
      " [0.25 0.25 0.25 0.25]\n",
      " [0.   0.5  0.5  0.  ]\n",
      " [0.   0.   1.   0.  ]\n",
      " [0.5  0.5  0.   0.  ]\n",
      " [0.   1.   0.   0.  ]\n",
      " [0.   1.   0.   0.  ]\n",
      " [0.25 0.25 0.25 0.25]]\n"
     ]
    }
   ],
   "source": [
    "v = [0]*16\n",
    "num_states = 16\n",
    "terminal = [0, 15]\n",
    "reward = -1\n",
    "while (True):\n",
    "    delta = 0\n",
    "    for state in range(num_states):\n",
    "        val = v[state] \n",
    "        if (state in terminal):\n",
    "            continue\n",
    "        nval = -np.inf \n",
    "        for action in range(4):\n",
    "            next_state = get_next_state(state, action)\n",
    "            state_num = 4*next_state[0] + next_state[1]\n",
    "            nval = max(nval, reward + v[state_num])\n",
    "        v[state] = nval\n",
    "        delta = max(delta, abs(val-v[state]))\n",
    "#             print(delta)\n",
    "    if delta < 0.00001:\n",
    "        break\n",
    "\n",
    "policy = [[0.25 for i in range(4)] for j in range(16)]\n",
    "for state in range(num_states):\n",
    "    if (state in terminal):\n",
    "        continue\n",
    "    old_action = []\n",
    "    for act in policy[state]:\n",
    "        old_action.append(act)\n",
    "\n",
    "    li = []\n",
    "    for action in range(4):\n",
    "        next_state = get_next_state(state, action)\n",
    "        next_state = 4*next_state[0] + next_state[1]\n",
    "        li.append(reward + v[next_state])\n",
    "    li = numpy.round(numpy.array(li), 2)\n",
    "    maxval = max(li)\n",
    "    count=0;indices=[]\n",
    "\n",
    "\n",
    "    for action in range(4):\n",
    "        if (li[action] == maxval):\n",
    "            indices.append(action)\n",
    "            count+=1;\n",
    "    for index in range(4):\n",
    "        if index in indices:\n",
    "            policy[state][index] = 1/count;\n",
    "        else:\n",
    "            policy[state][index] = 0\n",
    "\n",
    "po = numpy.reshape(policy, (16, 4))\n",
    "v = numpy.reshape(v, (4, 4))\n",
    "print(v)\n",
    "print()\n",
    "print(po)"
   ]
  },
  {
   "cell_type": "code",
   "execution_count": 61,
   "metadata": {},
   "outputs": [
    {
     "data": {
      "text/plain": [
       "array([['', 'L', 'L', 'DL'],\n",
       "       ['U', 'UL', 'URDL', 'D'],\n",
       "       ['U', 'URDL', 'RD', 'D'],\n",
       "       ['UR', 'R', 'R', '']], dtype='<U4')"
      ]
     },
     "execution_count": 61,
     "metadata": {},
     "output_type": "execute_result"
    }
   ],
   "source": [
    "get_action_matrix(po)"
   ]
  },
  {
   "cell_type": "code",
   "execution_count": null,
   "metadata": {},
   "outputs": [],
   "source": [
    "li.tolist().count(1)"
   ]
  },
  {
   "cell_type": "code",
   "execution_count": null,
   "metadata": {},
   "outputs": [],
   "source": [
    "type(li)"
   ]
  },
  {
   "cell_type": "code",
   "execution_count": null,
   "metadata": {},
   "outputs": [],
   "source": [
    "a = [0, 2, 3]\n",
    "b = [1, 2, 3]\n",
    "# a[0]+=1\n",
    "a==b"
   ]
  },
  {
   "cell_type": "code",
   "execution_count": null,
   "metadata": {},
   "outputs": [],
   "source": []
  }
 ],
 "metadata": {
  "kernelspec": {
   "display_name": "Python 3",
   "language": "python",
   "name": "python3"
  },
  "language_info": {
   "codemirror_mode": {
    "name": "ipython",
    "version": 3
   },
   "file_extension": ".py",
   "mimetype": "text/x-python",
   "name": "python",
   "nbconvert_exporter": "python",
   "pygments_lexer": "ipython3",
   "version": "3.6.1"
  }
 },
 "nbformat": 4,
 "nbformat_minor": 2
}
