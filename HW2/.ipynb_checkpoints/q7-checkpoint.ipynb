{
 "cells": [
  {
   "cell_type": "code",
   "execution_count": null,
   "metadata": {},
   "outputs": [],
   "source": [
    "import numpy as np\n",
    "import nump\n",
    "import math\n",
    "from tqdm import tqdm_notebook as tqdm\n",
    "import matplotlib.pyplot as plt\n",
    "%matplotlib inline"
   ]
  },
  {
   "cell_type": "code",
   "execution_count": 55,
   "metadata": {},
   "outputs": [],
   "source": [
    "poisson_vals = {}\n",
    "max_cars_a = 20\n",
    "max_cars_b = 20\n",
    "max_req_a = 10\n",
    "max_req_b = 10\n",
    "max_ret_a = 10\n",
    "max_ret_b = 10\n",
    "lamda_req_a = 3\n",
    "lamda_req_b = 4\n",
    "lamda_ret_a = 3 \n",
    "lamda_ret_b = 2 "
   ]
  },
  {
   "cell_type": "code",
   "execution_count": 56,
   "metadata": {},
   "outputs": [
    {
     "data": {
      "text/plain": [
       "2.718281828459045"
      ]
     },
     "execution_count": 56,
     "metadata": {},
     "output_type": "execute_result"
    }
   ],
   "source": [
    "math.exp(1)"
   ]
  },
  {
   "cell_type": "code",
   "execution_count": 57,
   "metadata": {},
   "outputs": [],
   "source": [
    "def get_poisson_val(lamda, n):\n",
    "    global poisson_vals\n",
    "    if ((lamda, n) in poisson_vals):\n",
    "        return poisson_vals[(lamda, n)]\n",
    "    else:\n",
    "        poisson_vals[(lamda, n)] = (np.power(lamda, n) * np.exp(-lamda)) / np.math.factorial(n)\n",
    "        return poisson_vals[(lamda, n)]"
   ]
  },
  {
   "cell_type": "code",
   "execution_count": 58,
   "metadata": {},
   "outputs": [],
   "source": [
    "def get_reward(sa, sb, v, action):\n",
    "    carsA = max(min(sa - action, max_cars_a), 0)\n",
    "    carsB = max(min(sb - action, max_cars_b), 0)    \n",
    "    ret = 0\n",
    "    for req_a in range(max_req_a):\n",
    "        for req_b in range(max_req_b):\n",
    "            for ret_a in range(max_ret_a):\n",
    "                for ret_b in range(max_ret_b):\n",
    "                    rent_a = min(carsA, req_a)\n",
    "                    rent_b = min(carsB, req_b)\n",
    "                    left_a = max(min(carsA - rent_a + ret_a, max_cars_a), 0)\n",
    "                    left_b = max(min(carsB - rent_b + ret_b, max_cars_b), 0)\n",
    "                    prob = get_poisson_val(lamda_req_a, req_a) * get_poisson_val(lamda_req_b, req_b) * get_poisson_val(lamda_ret_a, ret_a) * get_poisson_val(lamda_ret_b, ret_b)\n",
    "                    reward = (rent_a + rent_b)*10\n",
    "                    reward += abs(action) * (-2)\n",
    "                    if (action > 0):\n",
    "                        reward+=2\n",
    "                    if (left_a > 10):\n",
    "                        reward -=4\n",
    "                    if (left_b > 10):\n",
    "                        reward -=4\n",
    "                    ret += prob * (reward + 0.9*v[int(left_a)][int(left_b)])\n",
    "    return ret"
   ]
  },
  {
   "cell_type": "code",
   "execution_count": 59,
   "metadata": {},
   "outputs": [],
   "source": [
    "def policy_iteration():\n",
    "    v = np.zeros((max_cars_a + 1, max_cars_b + 1))\n",
    "    policy = np.zeros((max_cars_a + 1, max_cars_b + 1))\n",
    "    num_states = (max_cars_a + 1) * (max_cars_b + 1)\n",
    "    max_car_transfer = 5\n",
    "    actions = []\n",
    "    for i in range(-max_car_transfer, max_car_transfer + 1):\n",
    "        actions.append(i)\n",
    "    num_actions = len(actions)\n",
    "    flag = True\n",
    "    while (True):\n",
    "        while (True):\n",
    "            delta = 0\n",
    "            for sa in range(max_cars_a + 1):\n",
    "                for sb in range(max_cars_b + 1):\n",
    "                    action = policy[sa][sb]\n",
    "                    val = v[sa][sb]\n",
    "                    reward = get_reward(sa, sb, v, action)\n",
    "                    v[sa][sb] = reward\n",
    "                    delta = max(delta, abs(val - reward))\n",
    "            print(\"delta = \", delta)                    \n",
    "            if delta < 0.01:\n",
    "                break\n",
    "        \n",
    "    #     flag3 = True\n",
    "\n",
    "        policy_stable = True\n",
    "        for sa in range(max_cars_a + 1):\n",
    "            for sb in range(max_cars_b + 1):\n",
    "                old_action = policy[sa][sb]\n",
    "                li = []\n",
    "                for action in actions:\n",
    "                    li.append(get_reward(sa, sb, v, action)) \n",
    "                    \n",
    "                maxind = numpy.argmax(li)\n",
    "                bestaction = actions[maxind]\n",
    "                policy[sa][sb] = bestaction\n",
    "                if (old_action != bestaction):\n",
    "                    policy_stable = False      \n",
    "        plt.pcolor(policy)\n",
    "        plt.show()\n",
    "        if (policy_stable):\n",
    "            break\n"
   ]
  },
  {
   "cell_type": "code",
   "execution_count": null,
   "metadata": {},
   "outputs": [
    {
     "name": "stdout",
     "output_type": "stream",
     "text": [
      "delta =  167.55783985680554\n",
      "delta =  116.1443174827184\n",
      "delta =  78.3254865984508\n",
      "delta =  61.72408268838737\n",
      "delta =  48.503390805397544\n",
      "delta =  37.19069812693397\n",
      "delta =  28.598928100794808\n",
      "delta =  22.308565753999233\n",
      "delta =  18.35509133824175\n",
      "delta =  15.116113205895601\n",
      "delta =  12.42031099180889\n",
      "delta =  10.183732320496347\n",
      "delta =  8.33323620086992\n",
      "delta =  6.806248840529122\n",
      "delta =  5.549508072344793\n",
      "delta =  4.51777784212851\n",
      "delta =  3.672747748726181\n",
      "delta =  2.9821012277603813\n",
      "delta =  2.41870412851938\n",
      "delta =  1.9598826563426996\n",
      "delta =  1.586776958903954\n",
      "delta =  1.2837653539295388\n",
      "delta =  1.0379566963522961\n",
      "delta =  0.8387479868881655\n",
      "delta =  0.6774431098860987\n",
      "delta =  0.5469275102863662\n",
      "delta =  0.4413929805323846\n",
      "delta =  0.35610653630885736\n",
      "delta =  0.28721751371995197\n",
      "delta =  0.2315974037355204\n",
      "delta =  0.18670745109062636\n",
      "delta =  0.15048961085608425\n",
      "delta =  0.12127702448464106\n",
      "delta =  0.09772071809516092\n",
      "delta =  0.07872972061363726\n",
      "delta =  0.0634222407217635\n",
      "delta =  0.051085927237920714\n",
      "delta =  0.04114556967869021\n",
      "delta =  0.033136879071491876\n",
      "delta =  0.026685227216887597\n",
      "delta =  0.02148842295923714\n",
      "delta =  0.017302770226024222\n",
      "delta =  0.013931790518768139\n",
      "delta =  0.011217106262904508\n",
      "delta =  0.009031074985159648\n"
     ]
    }
   ],
   "source": [
    "policy_iteration()"
   ]
  },
  {
   "cell_type": "code",
   "execution_count": null,
   "metadata": {},
   "outputs": [],
   "source": [
    "#Plotting code taken from https://stackoverflow.com/questions/11766536/matplotlib-3d-surface-from-a-rectangular-array-of-heights\n",
    "from mpl_toolkits.mplot3d import Axes3D\n",
    "import matplotlib.pyplot as plt\n",
    "import numpy as np\n",
    "\n",
    "X = np.arange(0, 21)\n",
    "Y = np.arange(0, 21)\n",
    "X, Y = np.meshgrid(X, Y)\n",
    "fig = plt.figure()\n",
    "ax = fig.gca(projection='3d')\n",
    "surf = ax.plot_surface(X, Y, v, rstride=1, cstride=1, cmap='hot', linewidth=0, antialiased=False)\n",
    "\n",
    "fig.colorbar(surf, shrink=0.5, aspect=5)\n",
    "plt.show()"
   ]
  }
 ],
 "metadata": {
  "kernelspec": {
   "display_name": "Python 3",
   "language": "python",
   "name": "python3"
  },
  "language_info": {
   "codemirror_mode": {
    "name": "ipython",
    "version": 3
   },
   "file_extension": ".py",
   "mimetype": "text/x-python",
   "name": "python",
   "nbconvert_exporter": "python",
   "pygments_lexer": "ipython3",
   "version": "3.6.1"
  }
 },
 "nbformat": 4,
 "nbformat_minor": 2
}
