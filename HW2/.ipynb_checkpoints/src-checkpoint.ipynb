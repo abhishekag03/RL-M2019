{
 "cells": [
  {
   "cell_type": "code",
   "execution_count": 19,
   "metadata": {},
   "outputs": [],
   "source": [
    "import numpy\n",
    "import numpy as np\n",
    "from scipy.optimize import linprog"
   ]
  },
  {
   "cell_type": "code",
   "execution_count": 20,
   "metadata": {},
   "outputs": [],
   "source": [
    "def get_cell_type(row, col):\n",
    "    if ((row == 0 or row == 4) and (col == 0 or col == 4)):\n",
    "        return 0, 0.5; #corner\n",
    "    elif(row == 0 or col == 0 or row == 4 or col == 4):\n",
    "        return 1, 0.25; #edge\n",
    "    else:\n",
    "        return 2, 0; #middle\n",
    "    \n",
    "def get_neighbors(row, col):\n",
    "    arr = []\n",
    "    if (row+1<5):\n",
    "        arr.append((row+1, col))\n",
    "    if (col+1<5):\n",
    "        arr.append((row, col+1))\n",
    "    if (col-1>=0):\n",
    "        arr.append((row, col-1))\n",
    "    if (row-1>=0):\n",
    "        arr.append((row-1, col))\n",
    "    return arr\n",
    "\n",
    "def get_state(row, col, action): #returning reward obtained as the 3rd argument\n",
    "    if (row == 0 and col == 1):\n",
    "        return (4, 1, 10)\n",
    "    elif (row == 0 and col == 3):\n",
    "        return (2, 3, 5)\n",
    "    if (action == 0): #up\n",
    "        if (row - 1 >= 0):\n",
    "            return (row - 1, col, 0)\n",
    "        \n",
    "    if (action == 1): #right\n",
    "        if (col + 1 < 5):\n",
    "            return (row, col+1, 0)\n",
    "        \n",
    "    if (action == 2): #down\n",
    "        if (row + 1 < 5):\n",
    "            return (row + 1, col, 0)\n",
    "\n",
    "    if (action == 3): #left\n",
    "        if (col - 1 >= 0):\n",
    "            return (row, col-1, 0)\n",
    "    \n",
    "    return (row, col, -1)\n",
    "        "
   ]
  },
  {
   "cell_type": "code",
   "execution_count": 21,
   "metadata": {},
   "outputs": [],
   "source": [
    "A = [[0 for i in range(25)] for j in range(25)]\n",
    "b = [0 for i in range(25)]"
   ]
  },
  {
   "cell_type": "code",
   "execution_count": 22,
   "metadata": {},
   "outputs": [
    {
     "name": "stdout",
     "output_type": "stream",
     "text": [
      "[(4, 1), (3, 0)]\n"
     ]
    }
   ],
   "source": [
    "a = get_neighbors(4,0)\n",
    "print(a)"
   ]
  },
  {
   "cell_type": "code",
   "execution_count": 23,
   "metadata": {},
   "outputs": [],
   "source": [
    "row_num = 0;\n",
    "for row in range(5):\n",
    "    for col in range(5):\n",
    "        cell_type, bval = get_cell_type(row, col)\n",
    "        arr_ind = 5*row + col\n",
    "        b[arr_ind] = bval\n",
    "        neighbors = get_neighbors(row, col)\n",
    "        if (row == 0 and col == 1):\n",
    "            b[arr_ind] = -10\n",
    "            A[row_num][arr_ind] = -1\n",
    "            A[row_num][21] = 0.9\n",
    "        elif (row == 0 and col == 3):\n",
    "            b[arr_ind] = -5\n",
    "            A[row_num][arr_ind] = -1\n",
    "            A[row_num][13] = 0.9\n",
    "        elif (cell_type == 0):\n",
    "            A[row_num][arr_ind] = -0.55\n",
    "            for neighbor in neighbors:\n",
    "                index = 5*neighbor[0] + neighbor[1]\n",
    "                A[row_num][index] = 0.25*0.9\n",
    "        elif (cell_type == 1):\n",
    "            A[row_num][arr_ind] = 0.25*0.9 - 1\n",
    "            for neighbor in neighbors:\n",
    "                index = 5*neighbor[0] + neighbor[1]\n",
    "                A[row_num][index] = 0.25*0.9\n",
    "        else:\n",
    "            A[row_num][arr_ind] = -1\n",
    "            for neighbor in neighbors:\n",
    "                index = 5*neighbor[0] + neighbor[1]\n",
    "                A[row_num][index] = 0.25*0.9\n",
    "        row_num += 1"
   ]
  },
  {
   "cell_type": "code",
   "execution_count": 24,
   "metadata": {},
   "outputs": [],
   "source": [
    "Ainv = numpy.linalg.inv(A)"
   ]
  },
  {
   "cell_type": "code",
   "execution_count": 25,
   "metadata": {},
   "outputs": [],
   "source": [
    "b = numpy.array(b)"
   ]
  },
  {
   "cell_type": "code",
   "execution_count": 31,
   "metadata": {},
   "outputs": [
    {
     "name": "stdout",
     "output_type": "stream",
     "text": [
      "[[ 3.3  8.8  4.4  5.3  1.5]\n",
      " [ 1.5  3.   2.3  1.9  0.5]\n",
      " [ 0.1  0.7  0.7  0.4 -0.4]\n",
      " [-1.  -0.4 -0.4 -0.6 -1.2]\n",
      " [-1.9 -1.3 -1.2 -1.4 -2. ]]\n"
     ]
    }
   ],
   "source": [
    "ans = numpy.matmul(Ainv, b)\n",
    "print(numpy.reshape(numpy.round(ans, 1), (5, 5)))"
   ]
  },
  {
   "cell_type": "code",
   "execution_count": 32,
   "metadata": {},
   "outputs": [],
   "source": [
    "# optimal_coeffs = ([[0 for i in range(25)] for j in range(4*25)])\n",
    "optimal_coeffs = numpy.zeros((100, 25))"
   ]
  },
  {
   "cell_type": "code",
   "execution_count": 33,
   "metadata": {
    "scrolled": true
   },
   "outputs": [],
   "source": [
    "row_num = 0;\n",
    "gamma = 0.9;\n",
    "b = [0]*100\n",
    "for row in range(5):\n",
    "    for col in range(5):\n",
    "        for action in range(4):\n",
    "            state_row, state_col, reward = get_state(row, col, action)\n",
    "            arr_ind = 5*row + col\n",
    "            state_ind = 5*state_row + state_col\n",
    "            b[row_num] -= reward\n",
    "            optimal_coeffs[row_num][arr_ind] -= 1\n",
    "            optimal_coeffs[row_num][state_ind] += gamma\n",
    "            row_num += 1"
   ]
  },
  {
   "cell_type": "code",
   "execution_count": 34,
   "metadata": {},
   "outputs": [],
   "source": [
    "vstar = (linprog([1]*25, optimal_coeffs, b)).x"
   ]
  },
  {
   "cell_type": "code",
   "execution_count": 36,
   "metadata": {},
   "outputs": [
    {
     "name": "stdout",
     "output_type": "stream",
     "text": [
      "[[22.  24.4 22.  19.4 17.5]\n",
      " [19.8 22.  19.8 17.8 16. ]\n",
      " [17.8 19.8 17.8 16.  14.4]\n",
      " [16.  17.8 16.  14.4 13. ]\n",
      " [14.4 16.  14.4 13.  11.7]]\n"
     ]
    }
   ],
   "source": [
    "vstar = numpy.round(vstar, 1)\n",
    "print(numpy.reshape(vstar, (5, 5)))"
   ]
  },
  {
   "cell_type": "code",
   "execution_count": 37,
   "metadata": {},
   "outputs": [],
   "source": [
    "action_dict = {0:'U', 1:'R', 2:'D', 3:'L'}\n",
    "optimal_actions = [[\"\" for i in range (5)] for j in range(5)]\n",
    "for row in range(5):\n",
    "    for col in range(5):\n",
    "        values = []\n",
    "        for action in range(4):\n",
    "            state_row, state_col, reward = get_state(row, col, action)\n",
    "            values.append(vstar[state_row*5 + state_col])\n",
    "        maxval = max(values)\n",
    "        for action_num, val in enumerate(values):\n",
    "            if (val == maxval):\n",
    "                optimal_actions[row][col] = optimal_actions[row][col]+action_dict[action_num]"
   ]
  },
  {
   "cell_type": "code",
   "execution_count": 56,
   "metadata": {},
   "outputs": [],
   "source": [
    "def get_action_matrix(po):\n",
    "    action_dict = {0:'U', 1:'R', 2:'D', 3:'L'}\n",
    "    action_matrix = [\"\" for i in range(len(po))]\n",
    "    optimal_actions = [[\"\" for i in range (5)] for j in range(5)]\n",
    "    for i in range(1, len(po)-1):\n",
    "        values = po[i]\n",
    "        maxval = max(values)\n",
    "        for j, val in enumerate(values):\n",
    "            if (val == maxval):\n",
    "                action_matrix[i] = action_matrix[i] + action_dict[j]\n",
    "    mat = numpy.reshape(action_matrix, (4, 4))\n",
    "    return mat"
   ]
  },
  {
   "cell_type": "code",
   "execution_count": 57,
   "metadata": {},
   "outputs": [
    {
     "data": {
      "text/plain": [
       "[['R', 'URDL', 'L', 'URDL', 'L'],\n",
       " ['UR', 'U', 'UL', 'L', 'L'],\n",
       " ['UR', 'U', 'UL', 'UL', 'UL'],\n",
       " ['UR', 'U', 'UL', 'UL', 'UL'],\n",
       " ['UR', 'U', 'UL', 'UL', 'UL']]"
      ]
     },
     "execution_count": 57,
     "metadata": {},
     "output_type": "execute_result"
    }
   ],
   "source": [
    "optimal_actions"
   ]
  },
  {
   "cell_type": "markdown",
   "metadata": {},
   "source": [
    "# Policy Iteration"
   ]
  },
  {
   "cell_type": "code",
   "execution_count": 62,
   "metadata": {},
   "outputs": [],
   "source": [
    "def get_next_state(state_num, action): #returning reward obtained as the 3rd argument\n",
    "    row = state_num//4\n",
    "    col = state_num%4\n",
    "    if (row == 0 and col == 0):\n",
    "        return (0, 0)\n",
    "    elif (row == 3 and col == 3):\n",
    "        return (3, 3)\n",
    "    if (action == 0): #up\n",
    "        if (row - 1 >= 0):\n",
    "            return (row - 1, col)\n",
    "        \n",
    "    if (action == 1): #right\n",
    "        if (col + 1 < 4):\n",
    "            return (row, col+1)\n",
    "        \n",
    "    if (action == 2): #down\n",
    "        if (row + 1 < 4):\n",
    "            return (row + 1, col)\n",
    "\n",
    "    if (action == 3): #left\n",
    "        if (col - 1 >= 0):\n",
    "            return (row, col-1)    \n",
    "    return (row, col)\n"
   ]
  },
  {
   "cell_type": "code",
   "execution_count": 67,
   "metadata": {},
   "outputs": [
    {
     "name": "stdout",
     "output_type": "stream",
     "text": [
      "delta:  1.8984375\n",
      "delta:  1.724609375\n",
      "delta:  1.472412109375\n",
      "delta:  1.4061737060546875\n",
      "delta:  1.3317079544067383\n",
      "delta:  1.2421786189079285\n",
      "delta:  1.1491830237209797\n",
      "delta:  1.0584387693088502\n",
      "delta:  0.9725181825488107\n",
      "delta:  0.8924059502996897\n",
      "delta:  0.8183112404493045\n",
      "delta:  0.7500779695562692\n",
      "delta:  0.6873890613115314\n",
      "delta:  0.6298669391432661\n",
      "delta:  0.5771221272796652\n",
      "delta:  0.5287760186094594\n",
      "delta:  0.48447085001008716\n",
      "delta:  0.4438733987055308\n",
      "delta:  0.4066756472311397\n",
      "delta:  0.372594031842965\n",
      "delta:  0.3413680735003908\n",
      "delta:  0.3127587833753509\n",
      "delta:  0.2865470318891994\n",
      "delta:  0.26253196938627354\n",
      "delta:  0.24052953664261167\n",
      "delta:  0.2203710789440123\n",
      "delta:  0.2019020656849193\n",
      "delta:  0.18498091196034494\n",
      "delta:  0.16947789626083676\n",
      "delta:  0.1552741675450946\n",
      "delta:  0.1422608348641461\n",
      "delta:  0.13033813295070473\n",
      "delta:  0.11941465757337255\n",
      "delta:  0.10940666489176465\n",
      "delta:  0.10023742949022107\n",
      "delta:  0.0918366561932622\n",
      "delta:  0.08413994116554946\n",
      "delta:  0.07708827817126718\n",
      "delta:  0.07062760621066388\n",
      "delta:  0.06470839506731352\n",
      "delta:  0.05928526558949798\n",
      "delta:  0.05431664179498341\n",
      "delta:  0.049764432132345604\n",
      "delta:  0.04559373745524553\n",
      "delta:  0.04177258347101542\n",
      "delta:  0.03827167561236067\n",
      "delta:  0.035064174452937635\n",
      "delta:  0.03212548994506648\n",
      "delta:  0.029433092902149127\n",
      "delta:  0.02696634228047401\n",
      "delta:  0.024706326936318135\n",
      "delta:  0.022635720645226343\n",
      "delta:  0.020738649271876852\n",
      "delta:  0.019000569072346707\n",
      "delta:  0.017408155195649755\n",
      "delta:  0.015949199529863733\n",
      "delta:  0.014612517109625855\n",
      "delta:  0.013387860367490845\n",
      "delta:  0.012265840571807018\n",
      "delta:  0.011237855848747813\n",
      "delta:  0.010296025236741002\n",
      "delta:  0.009433128267737345\n",
      "delta:  0.008642549612069672\n",
      "delta:  0.00791822836253786\n",
      "delta:  0.007254611568992431\n",
      "delta:  0.006646611667065372\n",
      "delta:  0.006089567474791835\n",
      "delta:  0.005579208458016183\n",
      "delta:  0.005111621990700144\n",
      "delta:  0.004683223359091215\n",
      "delta:  0.004290728279798373\n",
      "delta:  0.0039311277211062645\n",
      "delta:  0.003601664834476992\n",
      "delta:  0.003299813819396036\n",
      "delta:  0.003023260559515961\n",
      "delta:  0.002769884881686835\n",
      "delta:  0.0025377443018115287\n",
      "delta:  0.002325059132942897\n",
      "delta:  0.002130198841477693\n",
      "delta:  0.0019516695467842737\n",
      "delta:  0.0017881025684900465\n",
      "delta:  0.0016382439336162236\n",
      "delta:  0.0015009447630838224\n",
      "delta:  0.0013751524639253887\n",
      "delta:  0.0012599026596831209\n",
      "delta:  0.0011543117970660433\n",
      "delta:  0.0010575703722821572\n",
      "delta:  0.0009689367250516057\n",
      "delta:  0.000887731352687382\n",
      "delta:  0.0008133317007938956\n",
      "delta:  0.0007451673904625977\n",
      "delta:  0.0006827158455351423\n",
      "delta:  0.0006254982863076464\n",
      "delta:  0.0005730760589983674\n",
      "delta:  0.0005250472728448585\n",
      "delta:  0.0004810437190556627\n",
      "delta:  0.00044072804795547427\n",
      "delta:  0.00040379118270550407\n",
      "delta:  0.00036994994983530205\n",
      "delta:  0.0003389449082717988\n",
      "delta:  0.00031053836038097415\n",
      "delta:  0.0002845125296566664\n",
      "delta:  0.000260667891183175\n",
      "delta:  0.0002388216419717537\n",
      "delta:  0.00021880629952164554\n",
      "delta:  0.0002004684178338323\n",
      "delta:  0.00018366741102227024\n",
      "delta:  0.0001682744755342469\n",
      "delta:  0.00015417160266650853\n",
      "delta:  0.0001412506739058017\n",
      "delta:  0.00012941263198484876\n",
      "delta:  0.00011856672151466796\n",
      "delta:  0.0001086297932104685\n",
      "delta:  9.952566640691884e-05\n",
      "delta:  9.118454506307216e-05\n",
      "delta:  8.354248263842123e-05\n",
      "delta:  7.654089189301772e-05\n",
      "delta:  7.012609568590733e-05\n",
      "delta:  6.424891551048972e-05\n",
      "delta:  5.886429443435759e-05\n",
      "delta:  5.393095170802553e-05\n",
      "delta:  4.9411066246562996e-05\n",
      "delta:  4.5269986721052646e-05\n",
      "delta:  4.1475965883108756e-05\n",
      "delta:  3.7999917172015785e-05\n",
      "delta:  3.4815191746417895e-05\n",
      "delta:  3.189737416775529e-05\n",
      "delta:  2.9224095218438606e-05\n",
      "delta:  2.677486043367594e-05\n",
      "delta:  2.453089294007782e-05\n",
      "delta:  2.247498955654237e-05\n",
      "delta:  2.05913888535747e-05\n",
      "delta:  1.8865650368127262e-05\n",
      "delta:  1.7284543854856338e-05\n",
      "delta:  1.5835947902331782e-05\n",
      "delta:  1.4508756954967339e-05\n",
      "delta:  1.3292796225528036e-05\n",
      "delta:  1.2178743634905231e-05\n",
      "delta:  1.1158058395466242e-05\n",
      "delta:  1.0222915509672248e-05\n",
      "delta:  9.366145771849688e-06\n",
      "delta:  17.999906976106587\n",
      "delta:  12.999945685158211\n",
      "delta:  6.499972842579105\n",
      "delta:  0\n",
      "delta:  0\n",
      "v:\n",
      " [[ 0. -1. -2. -3.]\n",
      " [-1. -2. -3. -2.]\n",
      " [-2. -3. -2. -1.]\n",
      " [-3. -2. -1.  0.]]\n",
      "\n",
      "policy:\n",
      " [[0.25 0.25 0.25 0.25]\n",
      " [0.   0.   0.   1.  ]\n",
      " [0.   0.   0.   1.  ]\n",
      " [0.   0.   0.5  0.5 ]\n",
      " [1.   0.   0.   0.  ]\n",
      " [0.5  0.   0.   0.5 ]\n",
      " [0.25 0.25 0.25 0.25]\n",
      " [0.   0.   1.   0.  ]\n",
      " [1.   0.   0.   0.  ]\n",
      " [0.25 0.25 0.25 0.25]\n",
      " [0.   0.5  0.5  0.  ]\n",
      " [0.   0.   1.   0.  ]\n",
      " [0.5  0.5  0.   0.  ]\n",
      " [0.   1.   0.   0.  ]\n",
      " [0.   1.   0.   0.  ]\n",
      " [0.25 0.25 0.25 0.25]]\n"
     ]
    }
   ],
   "source": [
    "v = [0]*16\n",
    "num_states = 16\n",
    "policy = [[0.25 for i in range(4)] for j in range(16)]\n",
    "flag = True\n",
    "terminal = [0, 15]\n",
    "reward = -1\n",
    "while (flag):\n",
    "    flag2 = True\n",
    "    while (flag2):\n",
    "        delta = 0\n",
    "        for state in range(num_states):\n",
    "            val = v[state] \n",
    "            if (state in terminal):\n",
    "                continue\n",
    "            nval = 0\n",
    "            for action in range(4):\n",
    "                next_state = get_next_state(state, action)\n",
    "                state_num = 4*next_state[0] + next_state[1]\n",
    "                nval += policy[state][action]*(reward + v[state_num])\n",
    "            v[state] = nval\n",
    "            delta = max(delta, abs(val-v[state]))\n",
    "        print(\"delta: \", delta)\n",
    "        if delta < 0.00001:\n",
    "            break\n",
    "#     flag3 = True\n",
    "  \n",
    "    policy_stable = True\n",
    "    for state in range(num_states):\n",
    "        if (state in terminal):\n",
    "            continue\n",
    "        old_action = []\n",
    "        for act in policy[state]:\n",
    "            old_action.append(act)\n",
    "#         old_action = policy[state]\n",
    "        li = []\n",
    "        for action in range(4):\n",
    "            next_state = get_next_state(state, action)\n",
    "            next_state = 4*next_state[0] + next_state[1]\n",
    "            li.append(reward + v[next_state])\n",
    "        li = numpy.round(numpy.array(li), 2)\n",
    "        maxval = max(li)\n",
    "        count=0;indices=[]\n",
    "\n",
    "\n",
    "        for action in range(4):\n",
    "            if (li[action] == maxval):\n",
    "                indices.append(action)\n",
    "                count+=1;\n",
    "        for index in range(4):\n",
    "            if index in indices:\n",
    "                policy[state][index] = 1/count;\n",
    "            else:\n",
    "                policy[state][index] = 0\n",
    "        for ind in range(len(old_action)):\n",
    "            if (old_action[ind] != policy[state][ind]):\n",
    "                policy_stable = False\n",
    "    if (policy_stable):\n",
    "        break\n",
    "po = numpy.reshape(policy, (16, 4))\n",
    "v = numpy.reshape(v, (4, 4))\n",
    "print(\"v:\\n\", v)\n",
    "print()\n",
    "print(\"policy:\\n\", po)"
   ]
  },
  {
   "cell_type": "markdown",
   "metadata": {},
   "source": [
    "# Value Iteration"
   ]
  },
  {
   "cell_type": "code",
   "execution_count": 60,
   "metadata": {},
   "outputs": [
    {
     "name": "stdout",
     "output_type": "stream",
     "text": [
      "[[ 0 -1 -2 -3]\n",
      " [-1 -2 -3 -2]\n",
      " [-2 -3 -2 -1]\n",
      " [-3 -2 -1  0]]\n",
      "\n",
      "[[0.25 0.25 0.25 0.25]\n",
      " [0.   0.   0.   1.  ]\n",
      " [0.   0.   0.   1.  ]\n",
      " [0.   0.   0.5  0.5 ]\n",
      " [1.   0.   0.   0.  ]\n",
      " [0.5  0.   0.   0.5 ]\n",
      " [0.25 0.25 0.25 0.25]\n",
      " [0.   0.   1.   0.  ]\n",
      " [1.   0.   0.   0.  ]\n",
      " [0.25 0.25 0.25 0.25]\n",
      " [0.   0.5  0.5  0.  ]\n",
      " [0.   0.   1.   0.  ]\n",
      " [0.5  0.5  0.   0.  ]\n",
      " [0.   1.   0.   0.  ]\n",
      " [0.   1.   0.   0.  ]\n",
      " [0.25 0.25 0.25 0.25]]\n"
     ]
    }
   ],
   "source": [
    "v = [0]*16\n",
    "num_states = 16\n",
    "terminal = [0, 15]\n",
    "reward = -1\n",
    "while (True):\n",
    "    delta = 0\n",
    "    for state in range(num_states):\n",
    "        val = v[state] \n",
    "        if (state in terminal):\n",
    "            continue\n",
    "        nval = -np.inf \n",
    "        for action in range(4):\n",
    "            next_state = get_next_state(state, action)\n",
    "            state_num = 4*next_state[0] + next_state[1]\n",
    "            nval = max(nval, reward + v[state_num])\n",
    "        v[state] = nval\n",
    "        delta = max(delta, abs(val-v[state]))\n",
    "    print(\"delta:\" , delta)\n",
    "    if delta < 0.00001:\n",
    "        break\n",
    "\n",
    "policy = [[0.25 for i in range(4)] for j in range(16)]\n",
    "for state in range(num_states):\n",
    "    if (state in terminal):\n",
    "        continue\n",
    "    old_action = []\n",
    "    for act in policy[state]:\n",
    "        old_action.append(act)\n",
    "\n",
    "    li = []\n",
    "    for action in range(4):\n",
    "        next_state = get_next_state(state, action)\n",
    "        next_state = 4*next_state[0] + next_state[1]\n",
    "        li.append(reward + v[next_state])\n",
    "    li = numpy.round(numpy.array(li), 2)\n",
    "    maxval = max(li)\n",
    "    count=0;indices=[]\n",
    "\n",
    "\n",
    "    for action in range(4):\n",
    "        if (li[action] == maxval):\n",
    "            indices.append(action)\n",
    "            count+=1;\n",
    "    for index in range(4):\n",
    "        if index in indices:\n",
    "            policy[state][index] = 1/count;\n",
    "        else:\n",
    "            policy[state][index] = 0\n",
    "\n",
    "po = numpy.reshape(policy, (16, 4))\n",
    "v = numpy.reshape(v, (4, 4))\n",
    "print(v)\n",
    "print()\n",
    "print(po)"
   ]
  },
  {
   "cell_type": "code",
   "execution_count": 61,
   "metadata": {},
   "outputs": [
    {
     "data": {
      "text/plain": [
       "array([['', 'L', 'L', 'DL'],\n",
       "       ['U', 'UL', 'URDL', 'D'],\n",
       "       ['U', 'URDL', 'RD', 'D'],\n",
       "       ['UR', 'R', 'R', '']], dtype='<U4')"
      ]
     },
     "execution_count": 61,
     "metadata": {},
     "output_type": "execute_result"
    }
   ],
   "source": [
    "get_action_matrix(po)"
   ]
  },
  {
   "cell_type": "code",
   "execution_count": null,
   "metadata": {},
   "outputs": [],
   "source": [
    "li.tolist().count(1)"
   ]
  },
  {
   "cell_type": "code",
   "execution_count": null,
   "metadata": {},
   "outputs": [],
   "source": [
    "type(li)"
   ]
  },
  {
   "cell_type": "code",
   "execution_count": null,
   "metadata": {},
   "outputs": [],
   "source": [
    "a = [0, 2, 3]\n",
    "b = [1, 2, 3]\n",
    "# a[0]+=1\n",
    "a==b"
   ]
  },
  {
   "cell_type": "code",
   "execution_count": null,
   "metadata": {},
   "outputs": [],
   "source": []
  }
 ],
 "metadata": {
  "kernelspec": {
   "display_name": "Python 3",
   "language": "python",
   "name": "python3"
  },
  "language_info": {
   "codemirror_mode": {
    "name": "ipython",
    "version": 3
   },
   "file_extension": ".py",
   "mimetype": "text/x-python",
   "name": "python",
   "nbconvert_exporter": "python",
   "pygments_lexer": "ipython3",
   "version": "3.6.1"
  }
 },
 "nbformat": 4,
 "nbformat_minor": 2
}
